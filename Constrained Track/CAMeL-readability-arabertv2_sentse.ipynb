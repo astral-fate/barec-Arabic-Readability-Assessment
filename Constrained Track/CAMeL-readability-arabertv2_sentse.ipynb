{
 "cells": [
  {
   "cell_type": "code",
   "execution_count": 1,
   "id": "78ddbbef-23c2-4fe5-8283-7b7cc9701d9e",
   "metadata": {},
   "outputs": [
    {
     "name": "stdout",
     "output_type": "stream",
     "text": [
      "✅ Libraries imported successfully.\n",
      "GPU found: NVIDIA GeForce RTX 2060\n"
     ]
    }
   ],
   "source": [
    "# -*- coding: utf-8 -*-\n",
    "\"\"\"\n",
    "sent_strict_local.ipynb\n",
    "\n",
    "This script has been modified to run locally in a Jupyter Notebook.\n",
    "Key changes:\n",
    "1.  Model changed to 'aubmindlab/bert-large-arabertv2'.\n",
    "2.  Google Drive mounting and specific paths have been removed.\n",
    "3.  File paths are now relative, assuming a specific local folder structure.\n",
    "\"\"\"\n",
    "\n",
    "# =====================================================================================\n",
    "# 1. INSTALLATIONS & IMPORTS\n",
    "# =====================================================================================\n",
    "# Make sure to run this cell in your Jupyter Notebook to install the required libraries.\n",
    "# You can uncomment the line below or run it separately in your terminal.\n",
    "# !pip install transformers[torch] pandas numpy scikit-learn pyarrow torch\n",
    "\n",
    "import pandas as pd\n",
    "import numpy as np\n",
    "import torch\n",
    "import torch.nn as nn\n",
    "from sklearn.metrics import cohen_kappa_score\n",
    "from torch.utils.data import Dataset as TorchDataset\n",
    "from transformers import AutoModel, TrainingArguments, Trainer, EarlyStoppingCallback\n",
    "import os\n",
    "\n",
    "print(\"✅ Libraries imported successfully.\")\n",
    "# Check for GPU availability\n",
    "if torch.cuda.is_available():\n",
    "    print(f\"GPU found: {torch.cuda.get_device_name(0)}\")\n",
    "else:\n",
    "    print(\"❗️ WARNING: No GPU found. Training will run on the CPU, which will be very slow.\")\n",
    "\n",
    "\n",
    "\n",
    "\n",
    "\n",
    "\n",
    "\n"
   ]
  },
  {
   "cell_type": "code",
   "execution_count": 4,
   "id": "a63aa527-f66c-4fb0-9a96-b7c9b66a43f8",
   "metadata": {},
   "outputs": [
    {
     "name": "stdout",
     "output_type": "stream",
     "text": [
      "Preprocessed data is expected in: ./preprocessed-arabic-readability\n",
      "Original test data is expected in: ./\n",
      "Model checkpoints and outputs will be saved to: ./output_results\n"
     ]
    }
   ],
   "source": [
    "\n",
    "# =====================================================================================\n",
    "# 2. CONFIGURATION\n",
    "# =====================================================================================\n",
    "# --- Define Base Path for your local project folder ---\n",
    "# This assumes your data folders are in the same directory as your notebook.\n",
    "# =====================================================================================\n",
    "# 2. CONFIGURATION\n",
    "# =====================================================================================\n",
    "# --- Define Base Path for your local project folder ---\n",
    "# ✔️ CORRECT: This tells the script to look in the current folder.\n",
    "BASE_PATH = './' \n",
    "\n",
    "# ❌ WRONG examples: '/', 'C:/', '/doc strict' will all cause errors.\n",
    "\n",
    "\n",
    "# --- Model & Training Params ---\n",
    "MODEL_NAME = \"CAMeL-Lab/readability-arabertv02-word-CE\"\n",
    "NUM_LABELS = 19\n",
    "NUM_FEATURES = 7\n",
    "\n",
    "# --- File Paths (Modified for Local Environment) ---\n",
    "PREPROCESSED_DATA_PATH = os.path.join(BASE_PATH, 'preprocessed-arabic-readability')\n",
    "ORIGINAL_DATA_PATH = BASE_PATH\n",
    "OUTPUT_DIR = os.path.join(BASE_PATH, 'output_results')\n",
    "# Create the output directory if it doesn't exist\n",
    "os.makedirs(OUTPUT_DIR, exist_ok=True)\n",
    "print(f\"Preprocessed data is expected in: {PREPROCESSED_DATA_PATH}\")\n",
    "print(f\"Original test data is expected in: {ORIGINAL_DATA_PATH}\")\n",
    "print(f\"Model checkpoints and outputs will be saved to: {OUTPUT_DIR}\")\n"
   ]
  },
  {
   "cell_type": "code",
   "execution_count": 5,
   "id": "8d8182e2-d6f1-44de-9eee-6f95134269f9",
   "metadata": {},
   "outputs": [
    {
     "name": "stdout",
     "output_type": "stream",
     "text": [
      "\n",
      "--- Loading Preprocessed Data from Local Machine ---\n",
      "Loaded 97874 training, 7310 validation, and 3420 test samples.\n",
      "✅ Successfully mapped document IDs to the preprocessed test set.\n"
     ]
    }
   ],
   "source": [
    "# =====================================================================================\n",
    "# 3. DATA LOADING & DATASET CLASS\n",
    "# =====================================================================================\n",
    "print(\"\\n--- Loading Preprocessed Data from Local Machine ---\")\n",
    "try:\n",
    "    train_df = pd.read_feather(os.path.join(PREPROCESSED_DATA_PATH, 'train_processed.feather'))\n",
    "    val_df = pd.read_feather(os.path.join(PREPROCESSED_DATA_PATH, 'val_processed.feather'))\n",
    "    # Load the preprocessed test data\n",
    "    test_processed_df = pd.read_feather(os.path.join(PREPROCESSED_DATA_PATH, 'test_processed.feather'))\n",
    "    print(f\"Loaded {len(train_df)} training, {len(val_df)} validation, and {len(test_processed_df)} test samples.\")\n",
    "\n",
    "    # IMPORTANT: We need the original test file to map sentence predictions back to document IDs.\n",
    "    test_original_df = pd.read_csv(os.path.join(ORIGINAL_DATA_PATH, 'sentnse_blind_test.csv'))\n",
    "    # Explode it to get a sentence-level mapping\n",
    "    sentence_to_doc_map = test_original_df.assign(text=test_original_df['Sentence'].str.split('\\n')).explode('text')\n",
    "    sentence_to_doc_map.dropna(subset=['text'], inplace=True)\n",
    "\n",
    "    # Ensure the row count matches and add the doc_id column\n",
    "    if len(sentence_to_doc_map) == len(test_processed_df):\n",
    "        test_processed_df['doc_id'] = sentence_to_doc_map['ID'].values\n",
    "        print(\"✅ Successfully mapped document IDs to the preprocessed test set.\")\n",
    "    else:\n",
    "        print(\"❗️ WARNING: Mismatch between preprocessed test set and original doc_id mapping. Aggregation might fail.\")\n",
    "\n",
    "except FileNotFoundError as e:\n",
    "    print(f\"❗️ ERROR: Could not find preprocessed files. Please check your folder structure.\")\n",
    "    print(f\"Missing file or directory: {e.filename}\")\n",
    "    # MODIFIED: Raising an error is better than exit() in a notebook\n",
    "    raise e\n",
    "\n",
    "# MODIFIED DATASET CLASS for pre-tokenized data\n",
    "class ReadabilityDataset(TorchDataset):\n",
    "    def __init__(self, dataframe, is_test=False):\n",
    "        self.input_ids = dataframe['input_ids'].tolist()\n",
    "        self.attention_mask = dataframe['attention_mask'].tolist()\n",
    "        self.features = dataframe['features'].tolist()\n",
    "        self.is_test = is_test\n",
    "        if not self.is_test:\n",
    "            self.labels = dataframe['label'].tolist()\n",
    "\n",
    "    def __getitem__(self, idx):\n",
    "        item = {\n",
    "            'input_ids': torch.tensor(self.input_ids[idx], dtype=torch.long),\n",
    "            'attention_mask': torch.tensor(self.attention_mask[idx], dtype=torch.long),\n",
    "            'numerical_features': torch.tensor(self.features[idx], dtype=torch.float)\n",
    "        }\n",
    "        if not self.is_test:\n",
    "            item['labels'] = torch.tensor(self.labels[idx] - 1, dtype=torch.long)\n",
    "        return item\n",
    "\n",
    "    def __len__(self):\n",
    "        return len(self.features)\n"
   ]
  },
  {
   "cell_type": "code",
   "execution_count": 6,
   "id": "514e3a14-7519-46c7-ab55-8257d0c4ff57",
   "metadata": {},
   "outputs": [],
   "source": [
    "# =====================================================================================\n",
    "# 4. HYBRID MODEL\n",
    "# =====================================================================================\n",
    "class HybridReadabilityModel(nn.Module):\n",
    "    def __init__(self, model_name, num_extra_features, num_labels):\n",
    "        super(HybridReadabilityModel, self).__init__()\n",
    "        self.transformer = AutoModel.from_pretrained(model_name)\n",
    "        transformer_output_dim = self.transformer.config.hidden_size\n",
    "        self.head = nn.Sequential(\n",
    "            # Using the larger dimension from the 'large' model dynamically\n",
    "            nn.Linear(transformer_output_dim + num_extra_features, 512),\n",
    "            nn.BatchNorm1d(512),\n",
    "            nn.ReLU(),\n",
    "            nn.Dropout(0.3),\n",
    "            nn.Linear(512, num_labels)\n",
    "        )\n",
    "        self.loss_fn = nn.CrossEntropyLoss()\n",
    "\n",
    "    def forward(self, input_ids, attention_mask, numerical_features, labels=None):\n",
    "        transformer_outputs = self.transformer(input_ids=input_ids, attention_mask=attention_mask)\n",
    "        cls_embedding = transformer_outputs.last_hidden_state[:, 0, :]\n",
    "        combined_features = torch.cat([cls_embedding, numerical_features], dim=1)\n",
    "        logits = self.head(combined_features)\n",
    "        loss = None\n",
    "        if labels is not None:\n",
    "            loss = self.loss_fn(logits, labels)\n",
    "        return (loss, logits) if loss is not None else logits\n",
    "\n",
    "def compute_metrics(p):\n",
    "    logits, labels = p.predictions, p.label_ids\n",
    "    preds = np.argmax(logits, axis=1)\n",
    "    return {\"qwk\": cohen_kappa_score(labels, preds, weights='quadratic')}\n"
   ]
  },
  {
   "cell_type": "code",
   "execution_count": 7,
   "id": "170e1d91-16cd-4b8a-96a2-45934846422f",
   "metadata": {
    "scrolled": true
   },
   "outputs": [
    {
     "name": "stdout",
     "output_type": "stream",
     "text": [
      "\n",
      "===== 🚀 PREPARING FOR HYBRID MODEL TRAINING RUN =====\n",
      "\n"
     ]
    },
    {
     "data": {
      "application/vnd.jupyter.widget-view+json": {
       "model_id": "597f93d979bf42478f56510ed4b026a9",
       "version_major": 2,
       "version_minor": 0
      },
      "text/plain": [
       "config.json: 0.00B [00:00, ?B/s]"
      ]
     },
     "metadata": {},
     "output_type": "display_data"
    },
    {
     "name": "stderr",
     "output_type": "stream",
     "text": [
      "C:\\ProgramData\\anaconda3\\envs\\gpu_env\\lib\\site-packages\\huggingface_hub\\file_download.py:143: UserWarning: `huggingface_hub` cache-system uses symlinks by default to efficiently store duplicated files but your machine does not support them in C:\\Users\\Fatima\\.cache\\huggingface\\hub\\models--CAMeL-Lab--readability-arabertv02-word-CE. Caching files will still work but in a degraded version that might require more space on your disk. This warning can be disabled by setting the `HF_HUB_DISABLE_SYMLINKS_WARNING` environment variable. For more details, see https://huggingface.co/docs/huggingface_hub/how-to-cache#limitations.\n",
      "To support symlinks on Windows, you either need to activate Developer Mode or to run Python as an administrator. In order to activate developer mode, see this article: https://docs.microsoft.com/en-us/windows/apps/get-started/enable-your-device-for-development\n",
      "  warnings.warn(message)\n"
     ]
    },
    {
     "data": {
      "application/vnd.jupyter.widget-view+json": {
       "model_id": "9612031aba1c430eb478dff62f566369",
       "version_major": 2,
       "version_minor": 0
      },
      "text/plain": [
       "model.safetensors:   0%|          | 0.00/541M [00:00<?, ?B/s]"
      ]
     },
     "metadata": {},
     "output_type": "display_data"
    },
    {
     "name": "stdout",
     "output_type": "stream",
     "text": [
      "Starting model training with CAMeL-Lab/readability-arabertv02-word-CE...\n"
     ]
    },
    {
     "data": {
      "text/html": [
       "\n",
       "    <div>\n",
       "      \n",
       "      <progress value='42826' max='48944' style='width:300px; height:20px; vertical-align: middle;'></progress>\n",
       "      [42826/48944 2:48:06 < 24:01, 4.25 it/s, Epoch 7/8]\n",
       "    </div>\n",
       "    <table border=\"1\" class=\"dataframe\">\n",
       "  <thead>\n",
       " <tr style=\"text-align: left;\">\n",
       "      <th>Epoch</th>\n",
       "      <th>Training Loss</th>\n",
       "      <th>Validation Loss</th>\n",
       "      <th>Qwk</th>\n",
       "    </tr>\n",
       "  </thead>\n",
       "  <tbody>\n",
       "    <tr>\n",
       "      <td>1</td>\n",
       "      <td>1.877800</td>\n",
       "      <td>2.196482</td>\n",
       "      <td>0.519000</td>\n",
       "    </tr>\n",
       "    <tr>\n",
       "      <td>2</td>\n",
       "      <td>1.710400</td>\n",
       "      <td>2.050585</td>\n",
       "      <td>0.557014</td>\n",
       "    </tr>\n",
       "    <tr>\n",
       "      <td>3</td>\n",
       "      <td>1.668300</td>\n",
       "      <td>1.864119</td>\n",
       "      <td>0.591343</td>\n",
       "    </tr>\n",
       "    <tr>\n",
       "      <td>4</td>\n",
       "      <td>1.540900</td>\n",
       "      <td>1.842514</td>\n",
       "      <td>0.664796</td>\n",
       "    </tr>\n",
       "    <tr>\n",
       "      <td>5</td>\n",
       "      <td>1.486600</td>\n",
       "      <td>1.893837</td>\n",
       "      <td>0.676805</td>\n",
       "    </tr>\n",
       "    <tr>\n",
       "      <td>6</td>\n",
       "      <td>1.449300</td>\n",
       "      <td>1.888345</td>\n",
       "      <td>0.662472</td>\n",
       "    </tr>\n",
       "    <tr>\n",
       "      <td>7</td>\n",
       "      <td>1.364800</td>\n",
       "      <td>1.884651</td>\n",
       "      <td>0.664064</td>\n",
       "    </tr>\n",
       "  </tbody>\n",
       "</table><p>"
      ],
      "text/plain": [
       "<IPython.core.display.HTML object>"
      ]
     },
     "metadata": {},
     "output_type": "display_data"
    },
    {
     "name": "stdout",
     "output_type": "stream",
     "text": [
      "✅ Training finished.\n"
     ]
    }
   ],
   "source": [
    "# =====================================================================================\n",
    "# 5. TRAINING AND EVALUATION\n",
    "# =====================================================================================\n",
    "print(\"\\n===== 🚀 PREPARING FOR HYBRID MODEL TRAINING RUN =====\\n\")\n",
    "\n",
    "# --- Create Datasets ---\n",
    "train_dataset = ReadabilityDataset(train_df)\n",
    "val_dataset = ReadabilityDataset(val_df)\n",
    "test_dataset = ReadabilityDataset(test_processed_df, is_test=True)\n",
    "\n",
    "# --- Initialize Hybrid Model ---\n",
    "model = HybridReadabilityModel(MODEL_NAME, num_extra_features=NUM_FEATURES, num_labels=NUM_LABELS)\n",
    "\n",
    "# --- Define Training Arguments ---\n",
    "training_args = TrainingArguments(\n",
    "    output_dir=os.path.join(OUTPUT_DIR, \"results_hybrid_model_large_camel\"), # new folder for large model\n",
    "    num_train_epochs=8,\n",
    "    per_device_train_batch_size=8,  # Reduced batch size for larger model to prevent memory issues\n",
    "    per_device_eval_batch_size=16, # Reduced batch size\n",
    "    gradient_accumulation_steps=2, # Accumulate gradients to keep effective batch size at 16\n",
    "    learning_rate=1e-5, # Often a lower learning rate is better for larger models\n",
    "    warmup_ratio=0.1,\n",
    "    weight_decay=0.01,\n",
    "    logging_steps=100,\n",
    "    eval_strategy=\"epoch\",\n",
    "    save_strategy=\"epoch\",\n",
    "    load_best_model_at_end=True,\n",
    "    metric_for_best_model=\"qwk\",\n",
    "    greater_is_better=True,\n",
    "    save_total_limit=2,\n",
    "    fp16=torch.cuda.is_available(), # Automatically use mixed precision if GPU is available\n",
    "    report_to=\"none\"\n",
    ")\n",
    "\n",
    "# --- Initialize Trainer ---\n",
    "trainer = Trainer(\n",
    "    model=model,\n",
    "    args=training_args,\n",
    "    train_dataset=train_dataset,\n",
    "    eval_dataset=val_dataset,\n",
    "    compute_metrics=compute_metrics,\n",
    "    callbacks=[EarlyStoppingCallback(early_stopping_patience=2)]\n",
    ")\n",
    "\n",
    "print(f\"Starting model training with {MODEL_NAME}...\")\n",
    "trainer.train()\n",
    "print(\"✅ Training finished.\")"
   ]
  },
  {
   "cell_type": "code",
   "execution_count": 8,
   "id": "baeef15d-5f4f-4d7d-9f2d-667592573491",
   "metadata": {},
   "outputs": [
    {
     "name": "stdout",
     "output_type": "stream",
     "text": [
      "\n",
      "===== 🏆 GENERATING PREDICTIONS ON THE TEST SET =====\n",
      "\n"
     ]
    },
    {
     "data": {
      "text/html": [],
      "text/plain": [
       "<IPython.core.display.HTML object>"
      ]
     },
     "metadata": {},
     "output_type": "display_data"
    },
    {
     "name": "stdout",
     "output_type": "stream",
     "text": [
      "Aggregating sentence predictions to document-level using MAX rule...\n",
      "Saving prediction file to: ./output_results\\submission_large_model.csv\n",
      "✅ Submission file 'submission_large_model.csv' created successfully in ./output_results.\n",
      "\n",
      "--- Script Finished ---\n"
     ]
    }
   ],
   "source": [
    "# =====================================================================================\n",
    "# 6. PREDICTION AND SUBMISSION FILE GENERATION\n",
    "# =====================================================================================\n",
    "print(\"\\n===== 🏆 GENERATING PREDICTIONS ON THE TEST SET =====\\n\")\n",
    "\n",
    "predictions = trainer.predict(test_dataset)\n",
    "test_logits = predictions.predictions\n",
    "\n",
    "# Convert logits to final predictions (1-19)\n",
    "sentence_level_preds = np.argmax(test_logits, axis=1) + 1\n",
    "test_processed_df['prediction'] = sentence_level_preds\n",
    "\n",
    "# --- Aggregate sentence-level predictions to document-level ---\n",
    "print(\"Aggregating sentence predictions to document-level using MAX rule...\")\n",
    "# Group by the document ID and take the max readability score\n",
    "doc_level_preds = test_processed_df.groupby('doc_id')['prediction'].max()\n",
    "\n",
    "submission_df = pd.DataFrame({\n",
    "    'Document ID': doc_level_preds.index,\n",
    "    'Prediction': doc_level_preds.values\n",
    "})\n",
    "\n",
    "# --- Save the submission file ---\n",
    "SUBMISSION_FILE_NAME = \"submission_large_model.csv\"\n",
    "SUBMISSION_PATH = os.path.join(OUTPUT_DIR, SUBMISSION_FILE_NAME)\n",
    "\n",
    "print(f\"Saving prediction file to: {SUBMISSION_PATH}\")\n",
    "submission_df.to_csv(SUBMISSION_PATH, index=False)\n",
    "\n",
    "print(f\"✅ Submission file '{SUBMISSION_FILE_NAME}' created successfully in {OUTPUT_DIR}.\")\n",
    "print(\"\\n--- Script Finished ---\")"
   ]
  },
  {
   "cell_type": "code",
   "execution_count": null,
   "id": "1598faf9-ed99-4f9a-aa73-0ad73892e105",
   "metadata": {},
   "outputs": [],
   "source": []
  },
  {
   "cell_type": "code",
   "execution_count": null,
   "id": "8abe66f4-1f26-4ef1-9d6f-3c1694ef7ed3",
   "metadata": {},
   "outputs": [],
   "source": []
  }
 ],
 "metadata": {
  "kernelspec": {
   "display_name": "Python (gpu_env)",
   "language": "python",
   "name": "gpu_env"
  },
  "language_info": {
   "codemirror_mode": {
    "name": "ipython",
    "version": 3
   },
   "file_extension": ".py",
   "mimetype": "text/x-python",
   "name": "python",
   "nbconvert_exporter": "python",
   "pygments_lexer": "ipython3",
   "version": "3.10.18"
  }
 },
 "nbformat": 4,
 "nbformat_minor": 5
}
